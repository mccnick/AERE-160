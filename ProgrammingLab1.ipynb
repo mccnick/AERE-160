{
 "cells": [
  {
   "cell_type": "markdown",
   "metadata": {},
   "source": [
    "# AerE 160 Computer Lab #1, Fall 2021\n",
    "\n",
    "## Python Exercises (please demonstrate to your lab TA)\n",
    "\n",
    "Name: Nicholas McCullough\n",
    "\n",
    "ISU Email: nickmcc@iastate.edu\n",
    "\n",
    "Section #: 1\n",
    "\n",
    "Lab TA: Andres Batista Diaz\n",
    "\n",
    "Tip: In each cell, press **shift-enter** to execute that cell and go onto the next one. "
   ]
  },
  {
   "cell_type": "markdown",
   "metadata": {},
   "source": [
    "### 1. Simple loops and printing\n",
    "Write a simple for loop that prints the message \"Hello, world\" 10 times\n",
    "Use a for loop (as we did in the in-class exercise) and the python print function `print(\"text\")`. \n",
    "Remember the content to be repeated must be indented. "
   ]
  },
  {
   "cell_type": "code",
   "execution_count": null,
   "metadata": {},
   "outputs": [],
   "source": [
    "for cnt in range(10):\n",
    "    print(\"Hello, world\")\n"
   ]
  },
  {
   "cell_type": "markdown",
   "metadata": {},
   "source": [
    "### 2. Input, strings, and variables\n",
    "The `input(\"prompt> \")` function prompts the user to type something and returns what was entered, for example"
   ]
  },
  {
   "cell_type": "code",
   "execution_count": null,
   "metadata": {},
   "outputs": [],
   "source": [
    "print(\"Enter the a kind of fruit\")\n",
    "fruit=input(\"--> \")\n",
    "print(\"You entered: %s\" % (fruit))"
   ]
  },
  {
   "cell_type": "markdown",
   "metadata": {},
   "source": [
    "A variable (`fruit` in this case) is a place to store something. The equals sign means assignment, i.e. the value on the right (returned by `input`) is stored in the left (the variable `fruit`). \n",
    "\n",
    "Now write code to prompt the user for a kind of vegetable, and store the selection in a variable"
   ]
  },
  {
   "cell_type": "code",
   "execution_count": null,
   "metadata": {},
   "outputs": [],
   "source": [
    "print(\"Enter the a kind of vegetable\")\n",
    "vegetable=input(\"--> \")\n",
    "print(\"You entered: %s\" % (vegetable))"
   ]
  },
  {
   "cell_type": "markdown",
   "metadata": {},
   "source": [
    "### 3. If statements\n",
    "The `if` statement lets you run different code depending on a condition. `elif`, allows you to test alternatives, and `else` provides a final fallback if none are satisfied. Testing for equality requires two equals signs. For example:\n",
    "\n"
   ]
  },
  {
   "cell_type": "code",
   "execution_count": null,
   "metadata": {},
   "outputs": [],
   "source": [
    "if fruit==\"apple\":\n",
    "    print(\"That was tasty\")\n",
    "elif fruit==\"peach\":\n",
    "    print(\"Ugh. that one had a worm\")\n",
    "else:\n",
    "    print(\"I don't know what a %s is\" % (fruit))\n"
   ]
  },
  {
   "cell_type": "markdown",
   "metadata": {},
   "source": [
    "Now write some code that assesses the user's choice of vegetable. Use `if`, several `elif`, and a fallback `else`"
   ]
  },
  {
   "cell_type": "code",
   "execution_count": null,
   "metadata": {},
   "outputs": [],
   "source": [
    "if vegetable==\"potato\":\n",
    "    print(\"That was tasty\")\n",
    "elif vegetable==\"carrot\":\n",
    "    print(\"Ugh. that was mushy\")\n",
    "else:\n",
    "    print(\"I don't know what a %s is\" % (vegetable))"
   ]
  },
  {
   "cell_type": "markdown",
   "metadata": {},
   "source": [
    "### 4. While loops.\n",
    "Another kind of loop is the `while` loop. This one keeps repeating while the given condition is valid, for example:"
   ]
  },
  {
   "cell_type": "code",
   "execution_count": null,
   "metadata": {},
   "outputs": [],
   "source": [
    "dividend = 45\n",
    "divisor = 6\n",
    "\n",
    "# A simple but not-so-smart way to perform division\n",
    "# ... division is repeated subtraction, after all!\n",
    "remainder = dividend\n",
    "quotient = 0\n",
    "while remainder >= divisor:\n",
    "    remainder = remainder - divisor\n",
    "    quotient = quotient + 1\n",
    "    pass  # I often use \"pass\" to indicate the end of a block (doesn't otherwise do anything)\n",
    "\n",
    "print(\"%d/%d = %d and %d/%d\" % (dividend,divisor,quotient,remainder,divisor))"
   ]
  },
  {
   "cell_type": "markdown",
   "metadata": {},
   "source": [
    "Now write some code using a while loop to print \"hello, world!\" 10 times\n"
   ]
  },
  {
   "cell_type": "code",
   "execution_count": null,
   "metadata": {},
   "outputs": [],
   "source": [
    "x=0\n",
    "while x < 10:\n",
    "    x = x + 1\n",
    "    print(\"hello, world!\")"
   ]
  },
  {
   "cell_type": "markdown",
   "metadata": {},
   "source": [
    "### Accessing external code: Importing modules, packages, and functions\n",
    "Python comes with a large library of standard routines that you can take advantage of. The `import` statement is used to access these, for example "
   ]
  },
  {
   "cell_type": "code",
   "execution_count": null,
   "metadata": {},
   "outputs": [],
   "source": [
    "import random # now you can access the \"random\" library\n",
    "my_game = random.choice([ \"billiards\", \"pool\", \"poker\" ])\n",
    "print(\"I like to play %s!\" % (my_game))"
   ]
  },
  {
   "cell_type": "markdown",
   "metadata": {},
   "source": [
    "### Formatting text for printing\n",
    "You've seen a few times above the use of the percent sign (%) when printing to substitute a variable. Basically you include `%s` if the variable is a string, `%d` if the variable is an integer, and `%e`, `%f`, or `%g` if the variable is \"floating point\" (number perhaps with decimal), depending on whether or not you want exponential notation or just want the shortest representation.  \n",
    "\n",
    "You insert the `%s`, etc. into the string, and then follow it with the percent sign and the variables to subsitute in parentheses, for example,"
   ]
  },
  {
   "cell_type": "code",
   "execution_count": null,
   "metadata": {},
   "outputs": [],
   "source": [
    "a=random.random()*100.0\n",
    "print(\"The number is %f, but in exponential notation it is %e\" % (a,a))"
   ]
  },
  {
   "cell_type": "markdown",
   "metadata": {},
   "source": [
    "See https://pyformat.info/ for more advanced details/examples of formatting options"
   ]
  },
  {
   "cell_type": "markdown",
   "metadata": {},
   "source": [
    "### 5. Rock paper scissors\n",
    "Following the idea of the \"guessing game\" example from lecture, implement a \"rock, paper, scissors\" game. It should be interactive, using the `input()` function. The computer should be the other player, using . After the game ends, it should offer to restart. The game does not need to follow any standard rules. Be creative!"
   ]
  },
  {
   "cell_type": "code",
   "execution_count": null,
   "metadata": {},
   "outputs": [],
   "source": [
    "import random\n",
    "\n",
    "while True:\n",
    "    user_action = input(\"Enter a choice (rock, paper, scissors): \")\n",
    "    possible_actions = [\"rock\", \"paper\", \"scissors\"]\n",
    "    computer_action = random.choice(possible_actions)\n",
    "    print(f\"\\nYou selected {user_action}, computer chose {computer_action}.\\n\")\n",
    "    \n",
    "    if user_action == computer_action:\n",
    "        print(f\"Both users selected {user_action}. Tie!\")\n",
    "    elif user_action == \"rock\":\n",
    "        if computer_action == \"scissors\":\n",
    "            print(\"Rock smashes scissors, you win!\")\n",
    "        else:\n",
    "            print(\"Paper covers rock, you lost.\")\n",
    "    elif user_action == \"scissors\":\n",
    "        if computer_action == \"paper\":\n",
    "            print(\"Scissors cuts paper, you win!\")\n",
    "        else:\n",
    "            print(\"Rock smashes scissors, you lose.\")\n",
    "    elif user_action == \"paper\":\n",
    "        if computer_action == \"rock\":\n",
    "            print(\"Paper covers rock, you win!\")\n",
    "        else:\n",
    "            print(\"Scissors cuts paper, you lose.\")\n",
    "    \n",
    "    play_again = input(\"Would you like to play again? (yes/no): \")\n",
    "    if play_again.lower() != \"yes\":\n",
    "        print(\"Thanks for playing!\")\n",
    "        break"
   ]
  },
  {
   "cell_type": "markdown",
   "metadata": {},
   "source": [
    "### 6. Functions\n",
    "You can create your own functions. These are reusable code blocks that you can call again and again. For example:\n",
    "\n"
   ]
  },
  {
   "cell_type": "code",
   "execution_count": null,
   "metadata": {},
   "outputs": [],
   "source": [
    "def squareit(number):\n",
    "    square = number ** 2.0 # The ** operator in Python is used to take a number to a power\n",
    "    print(\"I am squaring %g and getting %g\" % (number,square))\n",
    "    return square\n",
    "\n",
    "print(\"5 squared is %g\" % (squareit(5.0)))\n"
   ]
  },
  {
   "cell_type": "markdown",
   "metadata": {},
   "source": [
    "The function can take any number of parameters, separated by commas. The optional `return` statement at then end passes a value back to where the function was called.\n",
    "\n",
    "Take your ten-pointed snowflake code from the first lecture, and re-implement it here, using   a function to implement drawing the square. Define the function first, then call the function repeatedly in the loop"
   ]
  },
  {
   "cell_type": "code",
   "execution_count": null,
   "metadata": {},
   "outputs": [],
   "source": [
    "%matplotlib\n",
    "\n",
    "from snowflake import start,move,turn\n",
    "start()\n",
    "def square():\n",
    "    for cnt in range(4): \n",
    "        move(\"forward\",100)\n",
    "        turn(\"right\",90)\n",
    "for cnt in range(10): \n",
    "    square()\n",
    "    turn(\"left\",36)\n"
   ]
  },
  {
   "cell_type": "markdown",
   "metadata": {},
   "source": [
    "### 7. Turn it in \n",
    "Make sure you have answered every question. Use the \"fast forward\" button above to rerun everything, demonstrating how each block of code you have written works. If possible, demonstrate your code to your lab TA before you leave lab. If you aren't finished you may turn it in by e-mail to your lab TA. Make sure the notebook includes demonstration output if you turn it in by email. "
   ]
  },
  {
   "cell_type": "code",
   "execution_count": null,
   "metadata": {},
   "outputs": [],
   "source": []
  }
 ],
 "metadata": {
  "kernelspec": {
   "display_name": "Python 3",
   "language": "python",
   "name": "python3"
  },
  "language_info": {
   "codemirror_mode": {
    "name": "ipython",
    "version": 3
   },
   "file_extension": ".py",
   "mimetype": "text/x-python",
   "name": "python",
   "nbconvert_exporter": "python",
   "pygments_lexer": "ipython3",
   "version": "3.8.8"
  }
 },
 "nbformat": 4,
 "nbformat_minor": 2
}
