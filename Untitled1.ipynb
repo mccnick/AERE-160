{
 "cells": [
  {
   "cell_type": "code",
   "execution_count": null,
   "id": "a62854ac",
   "metadata": {},
   "outputs": [],
   "source": [
    "print(\"print this sentence to the screen\")"
   ]
  },
  {
   "cell_type": "code",
   "execution_count": null,
   "id": "75d72bd5",
   "metadata": {},
   "outputs": [],
   "source": [
    "car=input(\"Enter a type of car: \")"
   ]
  },
  {
   "cell_type": "code",
   "execution_count": null,
   "id": "22b8d85f",
   "metadata": {},
   "outputs": [],
   "source": [
    "car"
   ]
  },
  {
   "cell_type": "code",
   "execution_count": null,
   "id": "5b58efa1",
   "metadata": {},
   "outputs": [],
   "source": [
    "number = 78.3"
   ]
  },
  {
   "cell_type": "code",
   "execution_count": null,
   "id": "9f097dd3",
   "metadata": {},
   "outputs": [],
   "source": [
    "number"
   ]
  },
  {
   "cell_type": "code",
   "execution_count": null,
   "id": "b8e84d3a",
   "metadata": {},
   "outputs": [],
   "source": [
    "print(number)"
   ]
  },
  {
   "cell_type": "code",
   "execution_count": null,
   "id": "2d51ffd8",
   "metadata": {},
   "outputs": [],
   "source": [
    "if car==\"Lamborghini\":\n",
    "    print(\"nice car\")\n",
    "elif car.upper()=='Mitsubishi':\n",
    "    print(\"decent car\")\n",
    "elif car==\"Chevy\":\n",
    "    print(\"yucky car!\")\n",
    "else:\n",
    "    print(\"I don't know what type of car that is.\")"
   ]
  },
  {
   "cell_type": "code",
   "execution_count": null,
   "id": "0242e4a6",
   "metadata": {},
   "outputs": [],
   "source": [
    "\"mitsubishi\""
   ]
  },
  {
   "cell_type": "code",
   "execution_count": null,
   "id": "daaa496d",
   "metadata": {},
   "outputs": [],
   "source": [
    "78.3"
   ]
  },
  {
   "cell_type": "code",
   "execution_count": null,
   "id": "71bbc619",
   "metadata": {},
   "outputs": [],
   "source": [
    "number"
   ]
  },
  {
   "cell_type": "code",
   "execution_count": null,
   "id": "bd3065bd",
   "metadata": {},
   "outputs": [],
   "source": [
    "\"mitsubishi\" .upper()== \"MITSUBISHI\""
   ]
  },
  {
   "cell_type": "code",
   "execution_count": null,
   "id": "b70825f9",
   "metadata": {},
   "outputs": [],
   "source": [
    "# Double equals (==) is different from single equals (=)\n",
    "# Single equals is assignment\n",
    "a = 5\n",
    "# double equals is comparison\n",
    "a == 5 # returns True of False (True in this case)"
   ]
  },
  {
   "cell_type": "code",
   "execution_count": null,
   "id": "916e0afe",
   "metadata": {},
   "outputs": [],
   "source": [
    "type(5)"
   ]
  },
  {
   "cell_type": "code",
   "execution_count": null,
   "id": "a0d532e3",
   "metadata": {},
   "outputs": [],
   "source": [
    "type(\"Mitsubishi\")"
   ]
  },
  {
   "cell_type": "code",
   "execution_count": null,
   "id": "09ace77c",
   "metadata": {},
   "outputs": [],
   "source": [
    "#Basic Python Types\n",
    "# int: integers\n",
    "# str: strings\n",
    "# float: (\"floating point\") nmbers -- i.e. number w/decimal\n",
    "# bool: booleans -- i.e. True or False"
   ]
  },
  {
   "cell_type": "code",
   "execution_count": null,
   "id": "0cf128cc",
   "metadata": {},
   "outputs": [],
   "source": [
    "float_value=98.6"
   ]
  },
  {
   "cell_type": "code",
   "execution_count": null,
   "id": "6a3d4ea7",
   "metadata": {},
   "outputs": [],
   "source": [
    "type(float_value)"
   ]
  },
  {
   "cell_type": "code",
   "execution_count": null,
   "id": "2b3c6a27",
   "metadata": {},
   "outputs": [],
   "source": [
    "# Can do type conversion (\"cast\") by calling type like a function\n",
    "int(float_value)  # Will always round down"
   ]
  },
  {
   "cell_type": "code",
   "execution_count": null,
   "id": "72ff1c8b",
   "metadata": {},
   "outputs": [],
   "source": [
    "number=input(\"Enter a number: \")"
   ]
  },
  {
   "cell_type": "code",
   "execution_count": null,
   "id": "d5b118af",
   "metadata": {},
   "outputs": [],
   "source": [
    "number*5"
   ]
  },
  {
   "cell_type": "code",
   "execution_count": null,
   "id": "edc4c334",
   "metadata": {},
   "outputs": [],
   "source": [
    "type(number)"
   ]
  },
  {
   "cell_type": "code",
   "execution_count": null,
   "id": "19308cb3",
   "metadata": {},
   "outputs": [],
   "source": [
    "# need to convert to float or integer"
   ]
  },
  {
   "cell_type": "code",
   "execution_count": null,
   "id": "96dc1579",
   "metadata": {},
   "outputs": [],
   "source": [
    "float(number)"
   ]
  },
  {
   "cell_type": "code",
   "execution_count": null,
   "id": "b6d42891",
   "metadata": {},
   "outputs": [],
   "source": [
    "type(float(number))"
   ]
  },
  {
   "cell_type": "code",
   "execution_count": null,
   "id": "baf7e812",
   "metadata": {},
   "outputs": [],
   "source": [
    "float(number)*5"
   ]
  },
  {
   "cell_type": "code",
   "execution_count": null,
   "id": "26763bbc",
   "metadata": {},
   "outputs": [],
   "source": [
    "for cnt in range(10):\n",
    "    print(\"blah blah blah\")"
   ]
  },
  {
   "cell_type": "code",
   "execution_count": null,
   "id": "88eb6344",
   "metadata": {},
   "outputs": [],
   "source": [
    "cnt=0\n",
    "while cnt <10:\n",
    "    print('blah blah blah')\n",
    "    cnt=cnt+1"
   ]
  },
  {
   "cell_type": "code",
   "execution_count": null,
   "id": "6cfbd350",
   "metadata": {},
   "outputs": [],
   "source": [
    "print(f\"this is a {car}\")"
   ]
  },
  {
   "cell_type": "code",
   "execution_count": null,
   "id": "57383010",
   "metadata": {},
   "outputs": [],
   "source": [
    "print(f\"the number is {number}\")"
   ]
  },
  {
   "cell_type": "code",
   "execution_count": null,
   "id": "4def5e12",
   "metadata": {},
   "outputs": [],
   "source": [
    "#Rounding when you print out: Use a colon (:), and then '.' precision, and type.\n",
    "print(f\"the number is {number:.1f}\")"
   ]
  },
  {
   "cell_type": "code",
   "execution_count": null,
   "id": "55700a93",
   "metadata": {},
   "outputs": [],
   "source": [
    "import random"
   ]
  },
  {
   "cell_type": "code",
   "execution_count": null,
   "id": "eac9dc2e",
   "metadata": {},
   "outputs": [],
   "source": [
    "random"
   ]
  },
  {
   "cell_type": "markdown",
   "id": "e1bac875",
   "metadata": {},
   "source": [
    "number = random.random()"
   ]
  },
  {
   "cell_type": "code",
   "execution_count": null,
   "id": "6349c33b",
   "metadata": {},
   "outputs": [],
   "source": [
    "number = random.random()"
   ]
  },
  {
   "cell_type": "code",
   "execution_count": null,
   "id": "c4e598fb",
   "metadata": {},
   "outputs": [],
   "source": [
    "number"
   ]
  },
  {
   "cell_type": "code",
   "execution_count": null,
   "id": "c2820e42",
   "metadata": {},
   "outputs": [],
   "source": [
    "random.random()*50"
   ]
  },
  {
   "cell_type": "code",
   "execution_count": null,
   "id": "960bf2de",
   "metadata": {},
   "outputs": [],
   "source": [
    "random.random()*50"
   ]
  },
  {
   "cell_type": "code",
   "execution_count": null,
   "id": "e66f900d",
   "metadata": {},
   "outputs": [],
   "source": [
    "random.random()*50"
   ]
  },
  {
   "cell_type": "code",
   "execution_count": null,
   "id": "851ca44e",
   "metadata": {},
   "outputs": [],
   "source": [
    "random.random()*3"
   ]
  },
  {
   "cell_type": "code",
   "execution_count": null,
   "id": "a4a8db50",
   "metadata": {},
   "outputs": [],
   "source": [
    "help(random.random)"
   ]
  },
  {
   "cell_type": "code",
   "execution_count": null,
   "id": "dbe7c779",
   "metadata": {},
   "outputs": [],
   "source": [
    "guessable_number = int(random.random()*3)"
   ]
  },
  {
   "cell_type": "code",
   "execution_count": 1,
   "id": "9d31ccbe",
   "metadata": {},
   "outputs": [
    {
     "ename": "NameError",
     "evalue": "name 'guessable_number' is not defined",
     "output_type": "error",
     "traceback": [
      "\u001b[0;31m---------------------------------------------------------------------------\u001b[0m",
      "\u001b[0;31mNameError\u001b[0m                                 Traceback (most recent call last)",
      "\u001b[0;32m<ipython-input-1-2f0c4087e877>\u001b[0m in \u001b[0;36m<module>\u001b[0;34m\u001b[0m\n\u001b[0;32m----> 1\u001b[0;31m \u001b[0mguessable_number\u001b[0m\u001b[0;34m\u001b[0m\u001b[0;34m\u001b[0m\u001b[0m\n\u001b[0m",
      "\u001b[0;31mNameError\u001b[0m: name 'guessable_number' is not defined"
     ]
    }
   ],
   "source": [
    "guessable_number"
   ]
  },
  {
   "cell_type": "code",
   "execution_count": 2,
   "id": "9af36258",
   "metadata": {},
   "outputs": [
    {
     "name": "stdout",
     "output_type": "stream",
     "text": [
      "Enter your guess: 4\n"
     ]
    }
   ],
   "source": [
    "Guess = int(input(\"Enter your guess: \"))"
   ]
  },
  {
   "cell_type": "code",
   "execution_count": null,
   "id": "41edd43e",
   "metadata": {},
   "outputs": [],
   "source": [
    "type(Guess)"
   ]
  },
  {
   "cell_type": "code",
   "execution_count": null,
   "id": "7de70312",
   "metadata": {},
   "outputs": [],
   "source": [
    "if Guess < guessable_number:\n",
    "    print(\"Too Low\")\n",
    "elif Guess > guessable_number:\n",
    "    print(\"Too High\")\n",
    "else:\n",
    "    print(\"You Got It!\")"
   ]
  },
  {
   "cell_type": "code",
   "execution_count": null,
   "id": "adaeb3ef",
   "metadata": {},
   "outputs": [],
   "source": [
    "done = False\n",
    "guessable_number = int(random.random()*50)\n",
    "\n",
    "while not done:\n",
    "    Guess = int(input(\"Enter your guess: \"))\n",
    "    \n",
    "    if Guess < guessable_number:\n",
    "        print(\"Too Low\")\n",
    "    elif Guess > guessable_number:\n",
    "        print(\"Too High\")\n",
    "    else:\n",
    "        print(\"You Got It!\")\n",
    "    done = True"
   ]
  },
  {
   "cell_type": "code",
   "execution_count": null,
   "id": "43118930",
   "metadata": {},
   "outputs": [],
   "source": [
    "if Guess < guessable_number:\n",
    "    print(\"Too Low\")\n",
    "elif Guess > guessable_number:\n",
    "    print(\"Too High\")\n",
    "else:\n",
    "    print(\"You Got It!\")"
   ]
  },
  {
   "cell_type": "code",
   "execution_count": 3,
   "id": "d4e44423",
   "metadata": {},
   "outputs": [
    {
     "data": {
      "text/plain": [
       "49.5"
      ]
     },
     "execution_count": 3,
     "metadata": {},
     "output_type": "execute_result"
    }
   ],
   "source": [
    "float(49.5)"
   ]
  },
  {
   "cell_type": "code",
   "execution_count": 4,
   "id": "587b1b0b",
   "metadata": {},
   "outputs": [
    {
     "data": {
      "text/plain": [
       "49"
      ]
     },
     "execution_count": 4,
     "metadata": {},
     "output_type": "execute_result"
    }
   ],
   "source": [
    "int(float(49.5))"
   ]
  },
  {
   "cell_type": "code",
   "execution_count": null,
   "id": "9e09c35d",
   "metadata": {},
   "outputs": [],
   "source": []
  }
 ],
 "metadata": {
  "kernelspec": {
   "display_name": "Python 3",
   "language": "python",
   "name": "python3"
  },
  "language_info": {
   "codemirror_mode": {
    "name": "ipython",
    "version": 3
   },
   "file_extension": ".py",
   "mimetype": "text/x-python",
   "name": "python",
   "nbconvert_exporter": "python",
   "pygments_lexer": "ipython3",
   "version": "3.8.8"
  }
 },
 "nbformat": 4,
 "nbformat_minor": 5
}
