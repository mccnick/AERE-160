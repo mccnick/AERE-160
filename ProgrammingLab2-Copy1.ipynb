{
 "cells": [
  {
   "cell_type": "markdown",
   "metadata": {},
   "source": [
    "# AerE 160 Computer Lab #2, Fall 2020\n",
    "\n",
    "## Python Exercises (please demonstrate to your lab TA)\n",
    "\n",
    "Name: Nicholas McCullough\n",
    "\n",
    "ISU Email: nickmcc@iastate.edu\n",
    "\n",
    "Section #: 1\n",
    "\n",
    "Lab TA: Andres and Harsha\n",
    "\n",
    "Tip: In each cell, press **shift-enter** to execute that cell and go onto the next one. "
   ]
  },
  {
   "cell_type": "markdown",
   "metadata": {},
   "source": [
    "### 1. Lists vs. tuples vs.  arrays\n",
    "In Python, lists are mutable (changeable) collections of objects. Tuples are immutable collections. Numpy arrays are mutable collections with a preselected size and data type, and which support vector operations, for example:\n"
   ]
  },
  {
   "cell_type": "code",
   "execution_count": null,
   "metadata": {},
   "outputs": [],
   "source": [
    "# Create a list\n",
    "fruit=[\"apples\",\"oranges\",\"pears\"]\n",
    "print(fruit)\n",
    "\n",
    "# modify the list (if fruit were a tuple, this would be an error)\n",
    "fruit[1] = \"mandarin oranges\"\n",
    "print(fruit)"
   ]
  },
  {
   "cell_type": "code",
   "execution_count": null,
   "metadata": {},
   "outputs": [],
   "source": [
    "# Create a tuple\n",
    "vegetables=(\"broccoli\",\"green beans\",\"peas\")\n",
    "print(vegetables)\n",
    "\n",
    "# modifying the tuple gives an error (TypeError); try it!\n",
    "vegetables[1] = \"lima beans\""
   ]
  },
  {
   "cell_type": "markdown",
   "metadata": {},
   "source": [
    "The elements of a list do not all need to be the same type; you can freely mix strings, integers, floats, etc. For example"
   ]
  },
  {
   "cell_type": "code",
   "execution_count": null,
   "metadata": {
    "scrolled": true
   },
   "outputs": [],
   "source": [
    "my_list = [ 3.5, \"Points\", 5]\n",
    "print(my_list)"
   ]
  },
  {
   "cell_type": "markdown",
   "metadata": {},
   "source": [
    "You can add elements to an array with the insert() or append() methods:"
   ]
  },
  {
   "cell_type": "code",
   "execution_count": null,
   "metadata": {},
   "outputs": [],
   "source": [
    "my_list.insert(0,\"New zeroth element\")\n",
    "my_list.append(\"New last element\")\n",
    "print(my_list)"
   ]
  },
  {
   "cell_type": "markdown",
   "metadata": {},
   "source": [
    "An array (\"numpy array\") is a little different, in that the elements generally should all be the same type. The numpy array is mutable (changeable) like a list, but unlike a list you have to pre-determine its length. The main advantage of a numpy array is that you can do very fast and efficient math operations over all of the elements, for example:"
   ]
  },
  {
   "cell_type": "code",
   "execution_count": null,
   "metadata": {},
   "outputs": [],
   "source": [
    "import numpy as np # you have to import numpy before you can use it\n",
    "\n",
    "# Create a new array initialized with the tuple (1,2,3)\n",
    "my_array = np.array((1,2,3,4)) \n",
    "print(my_array)"
   ]
  },
  {
   "cell_type": "markdown",
   "metadata": {},
   "source": [
    "Numpy tries to guess the data type for the array. It is often a good idea to explicitly set the data type with the `dtype` parameter.  \n",
    "\n",
    "The `dtype` can be set to a numpy type such as `np.byte`, `np.longlong`, `np.single`, or `np.double`. It can also be set to a shorthand character code such as `'b'`, `'q'`, `'f'`, or `'d'`. We will be wanting to store precise floating point numbers for numerical calculations so we will usually choose double precision floating point(`dtype='d'`).\n",
    "\n",
    "A full list of available types can be found at https://docs.scipy.org/doc/numpy/reference/arrays.scalars.html#built-in-scalar-types\n",
    "\n",
    "For example: "
   ]
  },
  {
   "cell_type": "code",
   "execution_count": null,
   "metadata": {},
   "outputs": [],
   "source": [
    "# Array we assigned above has an integer dtype\n",
    "print(f\"My array datatype={my_array.dtype}\")\n",
    "\n",
    "# Assign element with index 2 (was value of 3) to 5.5\n",
    "my_array[2]=5.5\n",
    "print(\"Attempted to assign element with index 2 to\")\n",
    "print(f\"a new value of 5.5 but got {my_array[2]:.1f}\")\n",
    "print()\n",
    "print(\"Let's try again instead with an array of doubles\")\n",
    "my_array_of_doubles=np.array((1,2,3,4),dtype='d')\n",
    "print()\n",
    "print(f\"Array of doubles is {my_array_of_doubles}\")\n",
    "my_array_of_doubles[2]=5.5\n",
    "print(\"Attempt to assign element with index 2 of double\")\n",
    "print(f\"array to a new value of 5.5 and get {my_array_of_doubles[2]:.2g}\")"
   ]
  },
  {
   "cell_type": "markdown",
   "metadata": {},
   "source": [
    "Numpy arrays support \"vector operations\". That means if you (for example) multiply, it will apply to all of the elements:"
   ]
  },
  {
   "cell_type": "code",
   "execution_count": null,
   "metadata": {},
   "outputs": [],
   "source": [
    "print(my_array*5)"
   ]
  },
  {
   "cell_type": "markdown",
   "metadata": {},
   "source": [
    "In contrast, a list or tuple multiplied by an integer gets repeated, as we saw with strings:"
   ]
  },
  {
   "cell_type": "code",
   "execution_count": null,
   "metadata": {},
   "outputs": [],
   "source": [
    "print(my_list*5)"
   ]
  },
  {
   "cell_type": "markdown",
   "metadata": {},
   "source": [
    "You can find out how many elements there are in a list, tuple, or array with the len() function:"
   ]
  },
  {
   "cell_type": "code",
   "execution_count": null,
   "metadata": {},
   "outputs": [],
   "source": [
    "print(\"Array length is %d\" % (len(my_array)))\n",
    "print(\"List length is %d\" % (len(my_list)))"
   ]
  },
  {
   "cell_type": "markdown",
   "metadata": {},
   "source": [
    "Now write code that creates at least one list, one tuple, and one numpy array. Create your own list, tuple, and array, with your own content. Demonstrate adding members to the list, and evaluating and displaying the length and contents of each.\n",
    "\n",
    "(tip: You can convert them to strings with the `str()` function)"
   ]
  },
  {
   "cell_type": "code",
   "execution_count": null,
   "metadata": {},
   "outputs": [],
   "source": [
    "# list\n",
    "cars=[\"porsche\", \"lamborghini\", \"ferrari\"]\n",
    "print(cars)\n",
    "\n",
    "# modify the list\n",
    "cars[1]=\"lexus\"\n",
    "print(cars)\n",
    "\n",
    "# create a tuple\n",
    "trucks=(\"ford, chevy, gmc\")\n",
    "print(trucks)\n",
    "\n",
    "my_list = [ 3.5, \"Points\", 5]\n",
    "print(my_list)\n",
    "\n",
    "#create a numpy\n",
    "\n",
    "import numpy as np #\n",
    "\n",
    "# Create a new array initialized with the tuple (1,2,3)\n",
    "my_array = np.array((1,2,3,4)) \n",
    "print(my_array)\n"
   ]
  },
  {
   "cell_type": "markdown",
   "metadata": {},
   "source": [
    "### 2. Accessing elements. \n",
    "You can access an element of a list, array, or tuple by specifying its index inside brackets `[]`. The indexes always start with 0, e.g."
   ]
  },
  {
   "cell_type": "code",
   "execution_count": null,
   "metadata": {},
   "outputs": [],
   "source": [
    "print(my_list[0])\n",
    "# You can modify an element of a list or array (but not a tuple)\n",
    "# by assigning to that element\n",
    "my_array[1] = 8\n",
    "print(my_array)"
   ]
  },
  {
   "cell_type": "markdown",
   "metadata": {},
   "source": [
    "Write some code that prints and modifies some elements of your list and your numpy array"
   ]
  },
  {
   "cell_type": "code",
   "execution_count": null,
   "metadata": {},
   "outputs": [],
   "source": [
    "print(my_list[0])\n",
    "# You can modify an element of a list or array (but not a tuple)\n",
    "# by assigning to that element\n",
    "my_array[1] = 9\n",
    "print(my_array)"
   ]
  },
  {
   "cell_type": "markdown",
   "metadata": {},
   "source": [
    "### 3. Using Numpy arrays to represent vectors\n",
    "Numpy arrays are often used to represent vectors by (x,y,z) components. This is useful because various vector operations such as scaling, dot and cross products, addition, and element-by-element multiplication can be easily performed. Given a point `(4.2,3.1,-0.5)` and another point `(-5.3, 1.1, 3.3)`, write each point as a numpy array, and then subtract the first point from the second point to get the vector from the first point to the second point. Store the difference in the variable `vec`:"
   ]
  },
  {
   "cell_type": "code",
   "execution_count": null,
   "metadata": {},
   "outputs": [],
   "source": [
    "point1 = np.array((4.2,3.1,-0.5)) \n",
    "print(point1)\n",
    "\n",
    "point2 = np.array((-5.3, 1.1, 3.3))\n",
    "print(point2)\n",
    "\n",
    "vec = np.array((point2-point1))\n",
    "print(vec)"
   ]
  },
  {
   "cell_type": "markdown",
   "metadata": {},
   "source": [
    "### 4. Vector magnitude \n",
    "Vectors can be thought of to consist of magnitude and direction. Magnitude is the square-root of the sum of the squares of the elements (as in the Pythagorean theorem), and direction is a unit vector (vector with magnitude 1.0). \n",
    "\n",
    "The python power operator is `**`. Evaluate the element-by-element square of the elements of `vec` using the power operator without an explicit loop. Then use the numpy `np.sum()` and `np.sqrt()` functions to evaluate and store the magnitude (square root of sum of squares). Also print the magnitude to the screen. "
   ]
  },
  {
   "cell_type": "code",
   "execution_count": null,
   "metadata": {},
   "outputs": [],
   "source": [
    "mag = np.sqrt(np.sum(vec**2))\n",
    "\n",
    "print(mag)"
   ]
  },
  {
   "cell_type": "markdown",
   "metadata": {},
   "source": [
    "### 5. Checking your answer\n",
    "Numpy is full of convenient functions to do common calculations. Nevertheless it is very important when using these functions to understand what they are doing under the hood. \n",
    "\n",
    "The numpy function `np.linalg.norm()` directly computes vector magnitude. Use this function to evaluate the vector magnitude directly and cross-check your result from above"
   ]
  },
  {
   "cell_type": "code",
   "execution_count": null,
   "metadata": {},
   "outputs": [],
   "source": [
    "print(np.linalg.norm(vec))"
   ]
  },
  {
   "cell_type": "markdown",
   "metadata": {},
   "source": [
    "### 6. Vector direction\n",
    "The direction of a vector can be represented by a unit vector (vector of magnitude 1). The direction can be calculated by dividing the original vector by its magnitude. Calculate and print the direction of `vec` "
   ]
  },
  {
   "cell_type": "code",
   "execution_count": null,
   "metadata": {},
   "outputs": [],
   "source": [
    "c=vec\n",
    "d=mag\n",
    "\n",
    "print(c/d)"
   ]
  },
  {
   "cell_type": "markdown",
   "metadata": {},
   "source": [
    "### 7. Manual iteration\n",
    "In calculating vector magntude and direction, above, you used **vectorized operations** where a single use of the power operator operated on each element of the vector, and a single call to `np.sum()` added all the elements together.  \n",
    "\n",
    "Sometimes it is preferable to perform all of the operations explicitly (this is common in programming languages such as C and Fortran, or if for some reason you are unable to use the numpy library). Rewrite your calculation of vector magnitude using explicit loop(s) to perform the power operation on each element and add the squares together. \n",
    "\n",
    "Tip: There are several ways to do this. You can initialize an empty list e.g. `squares = []` and then `append()` elements to it. Alternatively you can initialize an array of zeros, e.g. `squares=np.zeros(3)` and then assign values to it with `squares[cnt]=...` where `cnt` is your loop counter. \n",
    "\n",
    "Likewise you will probably want to initialize a variable that will store the sum to zero, e.g. `my_sum=0.0`. Then you can add the correct amount to it each time through the loop, e.g. `my_sum = my_sum + ...`\n",
    "\n"
   ]
  },
  {
   "cell_type": "code",
   "execution_count": null,
   "metadata": {},
   "outputs": [],
   "source": [
    "squares = []\n",
    "x=0\n",
    "sum=0\n",
    "while x<3:\n",
    "    squares.append(vec[x]**2)\n",
    "    sum=sum+squares[x]\n",
    "    x=x+1\n",
    "print(squares)\n",
    "print(sum)\n",
    "print(np.sqrt(sum))"
   ]
  },
  {
   "cell_type": "markdown",
   "metadata": {},
   "source": [
    "### 8. Generalized vectors and plotting. \n",
    "While we usually think of vectors as arrows in a two or three-dimensional space, we can create arrays of arbitrary length and perform \"vectorized\" operations over these arrays. \n",
    "\n",
    "For example, suppose we want to plot a function over time, say sin(t). We can define an array of values for t and then evaluate the sines of all of those values, e.g.:"
   ]
  },
  {
   "cell_type": "code",
   "execution_count": null,
   "metadata": {},
   "outputs": [],
   "source": [
    "# np.arange(start,stop,step) returns a range of values,\n",
    "# starting at the first parameter, always less than the \n",
    "# second parameter, with the third parameter as the step size. \n",
    "t = np.arange(-2,2,0.05) \n",
    "print(\"t=\\n%s\" % (str(t))) # the \\n adds an extra line break\n",
    "print()\n",
    "\n",
    "sine_of_t = np.sin(t)  # np.sin() is vectorized\n",
    "print(\"sin(t)=\\n%s\" % (str(sine_of_t)))"
   ]
  },
  {
   "cell_type": "markdown",
   "metadata": {},
   "source": [
    "Often a better way to create a range of values is with `np.linspace`. Use `help(np.linspace)` to get information on `np.linspace` then use it to create a new variable `u` that goes between -2 and +2 in a reasonable number of steps. Then evaluate the first few terms in the Taylor series approximation for sin(u): \n",
    "$u - \\frac{u^{3}}{6} + \\frac{u^{5}}{120}$ and store in a variable `sin_approx`. Also print both of these to the screen."
   ]
  },
  {
   "cell_type": "code",
   "execution_count": null,
   "metadata": {},
   "outputs": [],
   "source": [
    "help(np.linspace)"
   ]
  },
  {
   "cell_type": "markdown",
   "metadata": {},
   "source": [
    "### 9. Plotting\n",
    "We can create plots using the `matplotlib` library. \n",
    "\n",
    "It is useful in the Jupyter notebook to include first `%matplotlib notebook` or in Spyder to enter `%matplotlib qt` into the command window.\n",
    "\n",
    "Before we can use matplotlib functions we will need to import them with\n",
    "`from matplotlib import pyplot as pl`. \n",
    "\n",
    "Then we can create a new figure with `pl.figure()` and add plots to the figure with `pl.plot(x,y,'-')` where `x` contains the x coordinates of the data points, `y` contains the y coordinates of the datapoints, and `'-'` is a format string that specifies how the data should appear on the plot. See https://matplotlib.org/api/_as_gen/matplotlib.pyplot.plot.html for a full list of format strings. \n"
   ]
  },
  {
   "cell_type": "code",
   "execution_count": null,
   "metadata": {},
   "outputs": [],
   "source": [
    "%matplotlib notebook\n",
    "\n",
    "from matplotlib import pyplot as pl\n",
    "\n",
    "pl.figure()  # Create a new figure\n",
    "pl.plot(t,sine_of_t,'-')  # Add the plot\n",
    "pl.grid(True) # turn on grid\n",
    "\n",
    "# Now set axis labels and legend\n",
    "pl.xlabel(\"Time t\")\n",
    "pl.ylabel(\"Sinusoid value\")\n",
    "pl.title(\"This is my plot\")\n",
    "\n",
    "# (\"sin(t)\",) is a one-element tuple. Add more strings to the tuple to \n",
    "# add more entries to the legend.\n",
    "pl.legend((\"sin(t)\",),loc=\"best\") # "
   ]
  },
  {
   "cell_type": "markdown",
   "metadata": {},
   "source": [
    "Starting with the above code as a template, create a new plot that shows both `sine_of_t` (plotted against `t`) and `sin_approx` (plotted against `u`) on the same axes. You will need to add an additional call to `pl.plot()`\n",
    "\n",
    "Play around with the format string parameter to `pl.plot()` trying several possiblities listed at https://matplotlib.org/api/_as_gen/matplotlib.pyplot.plot.html \n",
    "\n"
   ]
  },
  {
   "cell_type": "code",
   "execution_count": null,
   "metadata": {},
   "outputs": [],
   "source": []
  },
  {
   "cell_type": "markdown",
   "metadata": {},
   "source": [
    "### 10. Non-vectorized calculations of t and sin(t)\n",
    "(Optional but recommended; required for students in honors sections)\n",
    "\n",
    "Most programming languages do not include native support for vectorized operations such as `np.arange(), np.linspace(), and np.sin()`. In fact, Python itself doesn't have this support natively (numpy is an add-in package). So pretend for a moment you were trying to do this plotting without numpy being available.\n",
    "\n",
    "Using lists instead of numpy arrays:\n",
    "  * Create a list of numbers between -2 and 2 using a loop\n",
    "  * Create another list with the sin() of those numbers. Pretending that numpy isn't available, use the Python native math (`import math`) library and the `math.sin()` function instead of `np.sin()`.  \n",
    "  * Pass these two lists to pl.plot() and show that you can plot successfully without using numpy arrays\n",
    "  "
   ]
  },
  {
   "cell_type": "code",
   "execution_count": null,
   "metadata": {},
   "outputs": [],
   "source": []
  }
 ],
 "metadata": {
  "kernelspec": {
   "display_name": "Python 3",
   "language": "python",
   "name": "python3"
  },
  "language_info": {
   "codemirror_mode": {
    "name": "ipython",
    "version": 3
   },
   "file_extension": ".py",
   "mimetype": "text/x-python",
   "name": "python",
   "nbconvert_exporter": "python",
   "pygments_lexer": "ipython3",
   "version": "3.8.8"
  }
 },
 "nbformat": 4,
 "nbformat_minor": 2
}
